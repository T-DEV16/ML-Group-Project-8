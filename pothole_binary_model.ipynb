{
 "cells": [
  {
   "cell_type": "code",
   "execution_count": 102,
   "metadata": {
    "id": "xCLjX-ij0JY-"
   },
   "outputs": [],
   "source": [
    "import numpy as np\n",
    "import tensorflow as tf\n",
    "from tensorflow import keras\n",
    "import matplotlib.pyplot as plt\n",
    "import keras_cv"
   ]
  },
  {
   "cell_type": "code",
   "execution_count": 9,
   "metadata": {
    "colab": {
     "base_uri": "https://localhost:8080/",
     "height": 125
    },
    "id": "FtxOO3f50cWj",
    "outputId": "908bb192-f467-428a-a06c-074ee6143c64"
   },
   "outputs": [
    {
     "name": "stderr",
     "output_type": "stream",
     "text": [
      "Downloading...\n",
      "From: https://drive.google.com/uc?id=1L4sSB1U1aiDX3XuSftHwujYjhFjIEfHr&authuser=0&export=download&confirm=t\n",
      "To: /content/dataset.zip\n",
      "100%|██████████| 206M/206M [00:01<00:00, 158MB/s]\n"
     ]
    },
    {
     "data": {
      "application/vnd.google.colaboratory.intrinsic+json": {
       "type": "string"
      },
      "text/plain": [
       "'dataset.zip'"
      ]
     },
     "execution_count": 9,
     "metadata": {},
     "output_type": "execute_result"
    }
   ],
   "source": [
    "import gdown \n",
    "\n",
    "url = \"https://drive.google.com/uc?id=1L4sSB1U1aiDX3XuSftHwujYjhFjIEfHr&authuser=0&export=download&confirm=t\"\n",
    "output = \"dataset.zip\"\n",
    "gdown.download(url, output, quiet=False)"
   ]
  },
  {
   "cell_type": "code",
   "execution_count": 10,
   "metadata": {
    "id": "-feAgZ4T56V7"
   },
   "outputs": [],
   "source": [
    "!unzip -q dataset.zip"
   ]
  },
  {
   "cell_type": "code",
   "execution_count": null,
   "metadata": {
    "id": "xlwsLwRAV1re"
   },
   "outputs": [],
   "source": []
  },
  {
   "cell_type": "code",
   "execution_count": 4,
   "metadata": {
    "id": "fAPAJn1o6tYC"
   },
   "outputs": [],
   "source": [
    "directory = '/content/content/processed_data'\n",
    "directory = 'content/processed_data'\n"
   ]
  },
  {
   "cell_type": "markdown",
   "metadata": {
    "id": "coLNn0BPG8BZ"
   },
   "source": [
    "Let's create training and test datsets using a keras built-in funciton. With this method not all images will be stored in memory, and they will be scaled down to (256, 256) and converted to grayscale when a batch is needed"
   ]
  },
  {
   "cell_type": "code",
   "execution_count": 158,
   "metadata": {
    "colab": {
     "base_uri": "https://localhost:8080/"
    },
    "id": "ouFeFBYp58oQ",
    "outputId": "c135956c-baad-4b87-e67f-7c26a4567a55"
   },
   "outputs": [
    {
     "name": "stdout",
     "output_type": "stream",
     "text": [
      "Found 2235 files belonging to 2 classes.\n",
      "Using 2012 files for training.\n",
      "Found 2235 files belonging to 2 classes.\n",
      "Using 223 files for validation.\n"
     ]
    }
   ],
   "source": [
    "training = keras.utils.image_dataset_from_directory(\n",
    "    directory,\n",
    "    labels=\"inferred\",\n",
    "    label_mode=\"binary\",\n",
    "    class_names=None,\n",
    "    color_mode=\"rgb\",\n",
    "    batch_size=10,\n",
    "    image_size=(224, 224),\n",
    "    shuffle=True,\n",
    "    seed=1024,\n",
    "    validation_split=0.1,\n",
    "    subset=\"training\",\n",
    "    interpolation=\"bilinear\",\n",
    "    follow_links=False,\n",
    "    crop_to_aspect_ratio=False,\n",
    ")\n",
    "test = keras.utils.image_dataset_from_directory(\n",
    "    directory,\n",
    "    labels=\"inferred\",\n",
    "    label_mode=\"binary\",\n",
    "    class_names=None,\n",
    "    color_mode=\"rgb\",\n",
    "    batch_size=10,\n",
    "    image_size=(224, 224),\n",
    "    shuffle=True,\n",
    "    seed=1024,\n",
    "    validation_split=0.1,\n",
    "    subset=\"validation\",\n",
    "    interpolation=\"bilinear\",\n",
    "    follow_links=False,\n",
    "    crop_to_aspect_ratio=False,\n",
    ")"
   ]
  },
  {
   "cell_type": "code",
   "execution_count": 80,
   "metadata": {
    "colab": {
     "base_uri": "https://localhost:8080/"
    },
    "id": "yx91e2XPBi-B",
    "outputId": "45e933da-89ef-46b9-d52c-c55289844bd8"
   },
   "outputs": [
    {
     "data": {
      "text/plain": [
       "<BatchDataset element_spec=(TensorSpec(shape=(None, 224, 224, 3), dtype=tf.float32, name=None), TensorSpec(shape=(None, 1), dtype=tf.float32, name=None))>"
      ]
     },
     "execution_count": 80,
     "metadata": {},
     "output_type": "execute_result"
    }
   ],
   "source": [
    "training"
   ]
  },
  {
   "cell_type": "code",
   "execution_count": 166,
   "metadata": {
    "id": "ypch0zsV_imH"
   },
   "outputs": [],
   "source": [
    "rand_aug = keras_cv.layers.RandAugment(\n",
    "    [0, 255],\n",
    "    augmentations_per_image=3,\n",
    "    magnitude=0.5,\n",
    "    magnitude_stddev=0.15,\n",
    "    rate=0.9090909090909091,\n",
    "    geometric=False,\n",
    "    seed=None)\n",
    "\n",
    "model = keras.models.Sequential()\n",
    "model.add(rand_aug)\n",
    "model.add(keras.layers.Rescaling(1./255))\n",
    "keras.layers.BatchNormalization()\n",
    "model.add(keras.layers.Conv2D(128, (3, 3), activation='relu', input_shape=(224, 224, 3)))\n",
    "model.add(keras.layers.MaxPooling2D((2, 2)))\n",
    "keras.layers.BatchNormalization()\n",
    "model.add(keras.layers.Conv2D(64, (3, 3), activation='relu'))\n",
    "model.add(keras.layers.MaxPooling2D((2, 2)))\n",
    "keras.layers.BatchNormalization()\n",
    "model.add(keras.layers.Conv2D(64, (3, 3), activation='relu'))\n",
    "model.add(keras.layers.MaxPooling2D((2, 2)))\n",
    "keras.layers.BatchNormalization()\n",
    "model.add(keras.layers.Conv2D(64, (3, 3), activation='relu'))\n",
    "model.add(keras.layers.MaxPooling2D((2, 2)))\n",
    "keras.layers.BatchNormalization()\n",
    "model.add(keras.layers.Conv2D(32, (3, 3), activation='relu'))\n",
    "model.add(keras.layers.MaxPooling2D((2, 2)))\n",
    "keras.layers.BatchNormalization()\n",
    "model.add(keras.layers.Conv2D(32, (3, 3), activation='relu'))\n",
    "model.add(keras.layers.MaxPooling2D((2, 2)))\n",
    "\n",
    "model.add(keras.layers.Flatten())\n",
    "model.add(keras.layers.Dense(64, activation='relu'))\n",
    "model.add(keras.layers.Dropout(0.2, input_shape=(64, )))\n",
    "model.add(keras.layers.Dense(16, activation='relu'))\n",
    "model.add(keras.layers.Dropout(0.2, input_shape=(16, )))\n",
    "model.add(keras.layers.Dense(1))\n"
   ]
  },
  {
   "cell_type": "code",
   "execution_count": 167,
   "metadata": {
    "colab": {
     "base_uri": "https://localhost:8080/"
    },
    "id": "HDv-_B_lCnwT",
    "outputId": "6364ebc8-feda-47eb-b5f1-9e84ffbed6c1"
   },
   "outputs": [
    {
     "name": "stdout",
     "output_type": "stream",
     "text": [
      "Epoch 1/50\n",
      "202/202 [==============================] - 86s 417ms/step - loss: 0.6685 - accuracy: 0.6019 - val_loss: 0.5798 - val_accuracy: 0.6323\n",
      "Epoch 2/50\n",
      "202/202 [==============================] - 92s 455ms/step - loss: 0.6642 - accuracy: 0.6019 - val_loss: 0.5692 - val_accuracy: 0.6323\n",
      "Epoch 3/50\n",
      "202/202 [==============================] - 89s 441ms/step - loss: 0.6367 - accuracy: 0.6014 - val_loss: 0.5695 - val_accuracy: 0.6323\n",
      "Epoch 4/50\n",
      "202/202 [==============================] - 95s 470ms/step - loss: 0.6172 - accuracy: 0.6024 - val_loss: 0.5900 - val_accuracy: 0.6323\n",
      "Epoch 5/50\n",
      "202/202 [==============================] - 91s 452ms/step - loss: 0.6164 - accuracy: 0.6312 - val_loss: 0.5119 - val_accuracy: 0.7040\n",
      "Epoch 6/50\n",
      "202/202 [==============================] - 93s 462ms/step - loss: 0.5978 - accuracy: 0.6605 - val_loss: 0.5176 - val_accuracy: 0.6861\n",
      "Epoch 7/50\n",
      "202/202 [==============================] - 94s 467ms/step - loss: 0.5806 - accuracy: 0.6849 - val_loss: 0.4783 - val_accuracy: 0.8072\n",
      "Epoch 8/50\n",
      "202/202 [==============================] - 94s 466ms/step - loss: 0.5834 - accuracy: 0.7028 - val_loss: 0.5016 - val_accuracy: 0.7668\n",
      "Epoch 9/50\n",
      "202/202 [==============================] - 98s 484ms/step - loss: 0.5698 - accuracy: 0.7058 - val_loss: 0.4864 - val_accuracy: 0.7354\n",
      "Epoch 10/50\n",
      "202/202 [==============================] - 99s 491ms/step - loss: 0.5427 - accuracy: 0.7411 - val_loss: 0.4839 - val_accuracy: 0.7444\n",
      "Epoch 11/50\n",
      "202/202 [==============================] - 96s 474ms/step - loss: 0.5494 - accuracy: 0.7351 - val_loss: 0.4829 - val_accuracy: 0.7399\n",
      "Epoch 12/50\n",
      "202/202 [==============================] - 95s 468ms/step - loss: 0.5602 - accuracy: 0.7336 - val_loss: 0.4932 - val_accuracy: 0.7534\n",
      "Epoch 13/50\n",
      "202/202 [==============================] - 95s 468ms/step - loss: 0.5299 - accuracy: 0.7619 - val_loss: 0.4756 - val_accuracy: 0.7937\n",
      "Epoch 14/50\n",
      "202/202 [==============================] - 95s 469ms/step - loss: 0.5516 - accuracy: 0.7416 - val_loss: 0.4853 - val_accuracy: 0.7848\n",
      "Epoch 15/50\n",
      "202/202 [==============================] - 99s 489ms/step - loss: 0.5251 - accuracy: 0.7525 - val_loss: 0.4964 - val_accuracy: 0.7937\n",
      "Epoch 16/50\n",
      "202/202 [==============================] - 97s 481ms/step - loss: 0.5253 - accuracy: 0.7530 - val_loss: 0.4955 - val_accuracy: 0.7848\n",
      "Epoch 17/50\n",
      "202/202 [==============================] - 96s 477ms/step - loss: 0.5329 - accuracy: 0.7475 - val_loss: 0.4766 - val_accuracy: 0.7848\n",
      "Epoch 18/50\n",
      "202/202 [==============================] - 97s 477ms/step - loss: 0.5277 - accuracy: 0.7540 - val_loss: 0.4908 - val_accuracy: 0.7713\n",
      "Epoch 19/50\n",
      "202/202 [==============================] - 110s 543ms/step - loss: 0.5103 - accuracy: 0.7634 - val_loss: 0.4479 - val_accuracy: 0.8206\n",
      "Epoch 20/50\n",
      "202/202 [==============================] - 110s 544ms/step - loss: 0.5088 - accuracy: 0.7649 - val_loss: 0.4811 - val_accuracy: 0.7982\n",
      "Epoch 21/50\n",
      "202/202 [==============================] - 106s 524ms/step - loss: 0.5069 - accuracy: 0.7604 - val_loss: 0.4630 - val_accuracy: 0.8251\n",
      "Epoch 22/50\n",
      "202/202 [==============================] - 109s 537ms/step - loss: 0.4976 - accuracy: 0.7828 - val_loss: 0.4714 - val_accuracy: 0.7982\n",
      "Epoch 23/50\n",
      "202/202 [==============================] - 106s 522ms/step - loss: 0.5017 - accuracy: 0.7729 - val_loss: 0.4724 - val_accuracy: 0.8027\n",
      "Epoch 24/50\n",
      "202/202 [==============================] - 107s 529ms/step - loss: 0.5011 - accuracy: 0.7719 - val_loss: 0.4758 - val_accuracy: 0.7892\n",
      "Epoch 25/50\n",
      "202/202 [==============================] - 106s 525ms/step - loss: 0.4965 - accuracy: 0.7699 - val_loss: 0.4816 - val_accuracy: 0.7937\n",
      "Epoch 26/50\n",
      "202/202 [==============================] - 105s 517ms/step - loss: 0.5069 - accuracy: 0.7649 - val_loss: 0.4701 - val_accuracy: 0.7982\n",
      "Epoch 27/50\n",
      "202/202 [==============================] - 108s 535ms/step - loss: 0.4847 - accuracy: 0.7868 - val_loss: 0.4700 - val_accuracy: 0.8161\n",
      "Epoch 28/50\n",
      "202/202 [==============================] - 99s 488ms/step - loss: 0.4915 - accuracy: 0.7838 - val_loss: 0.4825 - val_accuracy: 0.7848\n",
      "Epoch 29/50\n",
      "202/202 [==============================] - 100s 494ms/step - loss: 0.4959 - accuracy: 0.7848 - val_loss: 0.4958 - val_accuracy: 0.8072\n",
      "Epoch 30/50\n",
      "202/202 [==============================] - 100s 495ms/step - loss: 0.4845 - accuracy: 0.7813 - val_loss: 0.5094 - val_accuracy: 0.7758\n",
      "Epoch 31/50\n",
      "202/202 [==============================] - 103s 508ms/step - loss: 0.4894 - accuracy: 0.7858 - val_loss: 0.4902 - val_accuracy: 0.7982\n",
      "Epoch 32/50\n",
      "202/202 [==============================] - 106s 524ms/step - loss: 0.4820 - accuracy: 0.7922 - val_loss: 0.4808 - val_accuracy: 0.8072\n",
      "Epoch 33/50\n",
      "202/202 [==============================] - 109s 537ms/step - loss: 0.4764 - accuracy: 0.7858 - val_loss: 0.4809 - val_accuracy: 0.7982\n",
      "Epoch 34/50\n",
      "202/202 [==============================] - 115s 569ms/step - loss: 0.4845 - accuracy: 0.7888 - val_loss: 0.5075 - val_accuracy: 0.7803\n",
      "Epoch 35/50\n",
      "202/202 [==============================] - 106s 526ms/step - loss: 0.4856 - accuracy: 0.7957 - val_loss: 0.4679 - val_accuracy: 0.8117\n",
      "Epoch 36/50\n",
      "202/202 [==============================] - 106s 525ms/step - loss: 0.4729 - accuracy: 0.7898 - val_loss: 0.4738 - val_accuracy: 0.7892\n",
      "Epoch 37/50\n",
      "202/202 [==============================] - 111s 549ms/step - loss: 0.4820 - accuracy: 0.7878 - val_loss: 0.4991 - val_accuracy: 0.7892\n",
      "Epoch 38/50\n",
      "202/202 [==============================] - 107s 529ms/step - loss: 0.4836 - accuracy: 0.7952 - val_loss: 0.4702 - val_accuracy: 0.7937\n",
      "Epoch 39/50\n",
      "202/202 [==============================] - 107s 530ms/step - loss: 0.4780 - accuracy: 0.7913 - val_loss: 0.5003 - val_accuracy: 0.7803\n",
      "Epoch 40/50\n",
      "202/202 [==============================] - 107s 529ms/step - loss: 0.4721 - accuracy: 0.7937 - val_loss: 0.5138 - val_accuracy: 0.7937\n",
      "Epoch 41/50\n",
      "202/202 [==============================] - 106s 525ms/step - loss: 0.4719 - accuracy: 0.7992 - val_loss: 0.4717 - val_accuracy: 0.7982\n",
      "Epoch 42/50\n",
      "202/202 [==============================] - 111s 546ms/step - loss: 0.4806 - accuracy: 0.7813 - val_loss: 0.4874 - val_accuracy: 0.7982\n",
      "Epoch 43/50\n",
      "202/202 [==============================] - 108s 533ms/step - loss: 0.4770 - accuracy: 0.7972 - val_loss: 0.4736 - val_accuracy: 0.8027\n",
      "Epoch 44/50\n",
      "202/202 [==============================] - 109s 542ms/step - loss: 0.4687 - accuracy: 0.7962 - val_loss: 0.4736 - val_accuracy: 0.7937\n",
      "Epoch 45/50\n",
      "202/202 [==============================] - 106s 526ms/step - loss: 0.4753 - accuracy: 0.7888 - val_loss: 0.4822 - val_accuracy: 0.8072\n",
      "Epoch 46/50\n",
      "202/202 [==============================] - 105s 520ms/step - loss: 0.4595 - accuracy: 0.8067 - val_loss: 0.4940 - val_accuracy: 0.8027\n",
      "Epoch 47/50\n",
      "202/202 [==============================] - 107s 528ms/step - loss: 0.4616 - accuracy: 0.8121 - val_loss: 0.5209 - val_accuracy: 0.7803\n",
      "Epoch 48/50\n",
      "202/202 [==============================] - 106s 522ms/step - loss: 0.4641 - accuracy: 0.7932 - val_loss: 0.4729 - val_accuracy: 0.8161\n",
      "Epoch 49/50\n",
      "202/202 [==============================] - 105s 517ms/step - loss: 0.4667 - accuracy: 0.8012 - val_loss: 0.4993 - val_accuracy: 0.7982\n",
      "Epoch 50/50\n",
      "202/202 [==============================] - 103s 510ms/step - loss: 0.4614 - accuracy: 0.7992 - val_loss: 0.4830 - val_accuracy: 0.8027\n"
     ]
    }
   ],
   "source": [
    "model.compile(optimizer='adam',\n",
    "              loss=keras.losses.BinaryCrossentropy(from_logits=True),\n",
    "              metrics=['accuracy'])\n",
    "\n",
    "history = model.fit(training, epochs=50, \n",
    "                    validation_data=test)"
   ]
  },
  {
   "cell_type": "code",
   "execution_count": null,
   "metadata": {},
   "outputs": [],
   "source": []
  },
  {
   "cell_type": "code",
   "execution_count": 168,
   "metadata": {
    "colab": {
     "base_uri": "https://localhost:8080/",
     "height": 300
    },
    "id": "okKiWudZOFQT",
    "outputId": "b490b9d1-29b1-4772-f5cb-552afa2e370c",
    "scrolled": true
   },
   "outputs": [
    {
     "name": "stdout",
     "output_type": "stream",
     "text": [
      "23/23 - 3s - loss: 0.4830 - accuracy: 0.8027 - 3s/epoch - 113ms/step\n"
     ]
    },
    {
     "data": {
      "image/png": "[encoded data removed]",
      "text/plain": [
       "<Figure size 640x480 with 1 Axes>"
      ]
     },
     "metadata": {},
     "output_type": "display_data"
    }
   ],
   "source": [
    "plt.plot(history.history['accuracy'], label='accuracy')\n",
    "plt.plot(history.history['val_accuracy'], label = 'val_accuracy')\n",
    "plt.xlabel('Epoch')\n",
    "plt.ylabel('Accuracy')\n",
    "plt.ylim([0.5, 1])\n",
    "plt.legend(loc='lower right')\n",
    "\n",
    "test_loss, test_acc = model.evaluate(test, verbose=2)"
   ]
  },
  {
   "cell_type": "code",
   "execution_count": 169,
   "metadata": {
    "colab": {
     "base_uri": "https://localhost:8080/"
    },
    "id": "Bj9pm6LfCX5h",
    "outputId": "6e2bd920-9a48-41eb-e3a2-b31993272066",
    "scrolled": true
   },
   "outputs": [
    {
     "name": "stdout",
     "output_type": "stream",
     "text": [
      "Model: \"sequential_38\"\n",
      "_________________________________________________________________\n",
      " Layer (type)                Output Shape              Param #   \n",
      "=================================================================\n",
      " rand_augment_25 (RandAugmen  (None, 224, 224, 3)      0         \n",
      " t)                                                              \n",
      "                                                                 \n",
      " rescaling_36 (Rescaling)    (None, 224, 224, 3)       0         \n",
      "                                                                 \n",
      " conv2d_208 (Conv2D)         (None, 222, 222, 128)     3584      \n",
      "                                                                 \n",
      " max_pooling2d_88 (MaxPoolin  (None, 111, 111, 128)    0         \n",
      " g2D)                                                            \n",
      "                                                                 \n",
      " conv2d_209 (Conv2D)         (None, 109, 109, 64)      73792     \n",
      "                                                                 \n",
      " max_pooling2d_89 (MaxPoolin  (None, 54, 54, 64)       0         \n",
      " g2D)                                                            \n",
      "                                                                 \n",
      " conv2d_210 (Conv2D)         (None, 52, 52, 64)        36928     \n",
      "                                                                 \n",
      " max_pooling2d_90 (MaxPoolin  (None, 26, 26, 64)       0         \n",
      " g2D)                                                            \n",
      "                                                                 \n",
      " conv2d_211 (Conv2D)         (None, 24, 24, 64)        36928     \n",
      "                                                                 \n",
      " max_pooling2d_91 (MaxPoolin  (None, 12, 12, 64)       0         \n",
      " g2D)                                                            \n",
      "                                                                 \n",
      " conv2d_212 (Conv2D)         (None, 10, 10, 32)        18464     \n",
      "                                                                 \n",
      " max_pooling2d_92 (MaxPoolin  (None, 5, 5, 32)         0         \n",
      " g2D)                                                            \n",
      "                                                                 \n",
      " conv2d_213 (Conv2D)         (None, 3, 3, 32)          9248      \n",
      "                                                                 \n",
      " max_pooling2d_93 (MaxPoolin  (None, 1, 1, 32)         0         \n",
      " g2D)                                                            \n",
      "                                                                 \n",
      " flatten_32 (Flatten)        (None, 32)                0         \n",
      "                                                                 \n",
      " dense_94 (Dense)            (None, 64)                2112      \n",
      "                                                                 \n",
      " dropout_50 (Dropout)        (None, 64)                0         \n",
      "                                                                 \n",
      " dense_95 (Dense)            (None, 16)                1040      \n",
      "                                                                 \n",
      " dropout_51 (Dropout)        (None, 16)                0         \n",
      "                                                                 \n",
      " dense_96 (Dense)            (None, 1)                 17        \n",
      "                                                                 \n",
      "=================================================================\n",
      "Total params: 182,113\n",
      "Trainable params: 182,113\n",
      "Non-trainable params: 0\n",
      "_________________________________________________________________\n"
     ]
    }
   ],
   "source": [
    "model.summary()"
   ]
  },
  {
   "cell_type": "code",
   "execution_count": null,
   "metadata": {},
   "outputs": [],
   "source": []
  },
  {
   "cell_type": "code",
   "execution_count": 172,
   "metadata": {},
   "outputs": [],
   "source": [
    "# Save model to run inference on the Jetson Nano\n",
    "\n",
    "model.save('cnn_model4.hdf5')"
   ]
  },
  {
   "cell_type": "code",
   "execution_count": null,
   "metadata": {},
   "outputs": [],
   "source": []
  }
 ],
 "metadata": {
  "colab": {
   "provenance": []
  },
  "kernelspec": {
   "display_name": "Python 3 (ipykernel)",
   "language": "python",
   "name": "python3"
  },
  "language_info": {
   "codemirror_mode": {
    "name": "ipython",
    "version": 3
   },
   "file_extension": ".py",
   "mimetype": "text/x-python",
   "name": "python",
   "nbconvert_exporter": "python",
   "pygments_lexer": "ipython3",
   "version": "3.9.13"
  }
 },
 "nbformat": 4,
 "nbformat_minor": 1
}
