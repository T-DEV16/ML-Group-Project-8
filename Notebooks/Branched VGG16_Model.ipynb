{
 "cells": [
  {
   "cell_type": "markdown",
   "metadata": {
    "id": "sRRGFk8UzZcE"
   },
   "source": [
    "# Pothole Detection\n",
    "\n",
    "[Complex Yolo Model](##Complex-Yolo-Model)\n",
    "\n",
    "[Model 3](##Model-3)"
   ]
  },
  {
   "cell_type": "markdown",
   "metadata": {
    "id": "AnTkvQQxzZcF"
   },
   "source": [
    "### Install and Import Dependencies"
   ]
  },
  {
   "cell_type": "code",
   "execution_count": 1,
   "metadata": {
    "id": "GWBUUVdizZcJ",
    "scrolled": true
   },
   "outputs": [],
   "source": [
    "import cv2\n",
    "import numpy as np\n",
    "import matplotlib.pyplot as plt\n",
    "from matplotlib import patches\n",
    "import os\n",
    "from sklearn.model_selection import train_test_split\n",
    "from tensorflow import keras\n",
    "import pandas as pd\n",
    "import seaborn as sns\n",
    "from tensorflow.keras import backend as K\n",
    "import tensorflow as tf\n",
    "from tensorflow.keras.layers import Conv2D, MaxPool2D, LeakyReLU, Dense, Flatten, Input, BatchNormalization, MaxPooling2D\n",
    "from tensorflow.keras.models import Model, load_model, Sequential\n",
    "import pickle\n",
    "from tensorflow.keras.layers import Dropout\n",
    "from tensorflow.keras.applications import VGG16\n",
    "from tensorflow.keras.optimizers import Adam"
   ]
  },
  {
   "cell_type": "code",
   "execution_count": 2,
   "metadata": {
    "colab": {
     "base_uri": "https://localhost:8080/"
    },
    "id": "BVaxjHZdeJa3",
    "outputId": "757c811c-c836-4e4c-cecc-d836a09b5d22"
   },
   "outputs": [
    {
     "ename": "ModuleNotFoundError",
     "evalue": "No module named 'google.colab'",
     "output_type": "error",
     "traceback": [
      "\u001b[1;31m---------------------------------------------------------------------------\u001b[0m",
      "\u001b[1;31mModuleNotFoundError\u001b[0m                       Traceback (most recent call last)",
      "\u001b[1;32m<ipython-input-2-d5df0069828e>\u001b[0m in \u001b[0;36m<module>\u001b[1;34m\u001b[0m\n\u001b[1;32m----> 1\u001b[1;33m \u001b[1;32mfrom\u001b[0m \u001b[0mgoogle\u001b[0m\u001b[1;33m.\u001b[0m\u001b[0mcolab\u001b[0m \u001b[1;32mimport\u001b[0m \u001b[0mdrive\u001b[0m\u001b[1;33m\u001b[0m\u001b[1;33m\u001b[0m\u001b[0m\n\u001b[0m\u001b[0;32m      2\u001b[0m \u001b[0mdrive\u001b[0m\u001b[1;33m.\u001b[0m\u001b[0mmount\u001b[0m\u001b[1;33m(\u001b[0m\u001b[1;34m'/content/drive'\u001b[0m\u001b[1;33m)\u001b[0m\u001b[1;33m\u001b[0m\u001b[1;33m\u001b[0m\u001b[0m\n",
      "\u001b[1;31mModuleNotFoundError\u001b[0m: No module named 'google.colab'"
     ]
    }
   ],
   "source": [
    "from google.colab import drive\n",
    "drive.mount('/content/drive')"
   ]
  },
  {
   "cell_type": "markdown",
   "metadata": {
    "id": "-heWYgCfqsVe"
   },
   "source": [
    "## Branched VGG16 Model"
   ]
  },
  {
   "cell_type": "code",
   "execution_count": null,
   "metadata": {
    "id": "hs_roZ9p31YB"
   },
   "outputs": [],
   "source": [
    "labels = np.array(pd.read_csv('drive/MyDrive/pothole_data.csv')['pothole'])[:700]"
   ]
  },
  {
   "cell_type": "code",
   "execution_count": null,
   "metadata": {
    "id": "xXKJ04yB3uEK"
   },
   "outputs": [],
   "source": [
    "X_color_obj = open('drive/MyDrive/X_color.obj', 'rb')\n",
    "X_color = pickle.load(X_color_obj)[:700]\n",
    "X_color_obj.close()"
   ]
  },
  {
   "cell_type": "code",
   "execution_count": null,
   "metadata": {
    "id": "3zzD90Rd3APa"
   },
   "outputs": [],
   "source": [
    "y_obj = open('drive/MyDrive/y.obj', 'rb') \n",
    "y = pickle.load(y_obj)[:700]\n",
    "y_obj.close()\n",
    "y = np.delete(y, 4, 1)\n",
    "# Scale\n",
    "y = y/600"
   ]
  },
  {
   "cell_type": "code",
   "execution_count": null,
   "metadata": {
    "id": "hmxFYXpi8Spw"
   },
   "outputs": [],
   "source": [
    "split = train_test_split(X_color, labels, y, test_size=0.20, random_state=42)\n",
    "(X_train, X_test) = split[:2]\n",
    "(label_train, label_test) = split[2:4]\n",
    "(y_train, y_test) = split[4:6]"
   ]
  },
  {
   "cell_type": "code",
   "execution_count": null,
   "metadata": {
    "id": "1seAMIiS_Q50"
   },
   "outputs": [],
   "source": [
    "def calculate_iou(target, pred):\n",
    "    target = tf.cast(target, tf.float32)\n",
    "    xA = K.maximum(target[:,0], pred[:,0])\n",
    "    yA = K.maximum(target[:,1], pred[:,1])\n",
    "    xB = K.minimum(target[:,2], pred[:,2])\n",
    "    yB = K.minimum(target[:,3], pred[:,3])\n",
    "    interArea = K.maximum(0.0, xB-xA)*K.maximum(0.0,yB-yA)\n",
    "    boxAarea = (target[:,2]-target[:,0])*(target[:,3]-target[:,1])\n",
    "    boxBarea = (pred[:,2]-pred[:,0]) * (pred[:,3]-pred[:,1])\n",
    "    iou = interArea / (boxAarea+boxBarea - interArea)\n",
    "    return iou\n",
    "\n",
    "def iou_metric(y_true, y_pred):\n",
    "    return calculate_iou(y_true, y_pred)"
   ]
  },
  {
   "cell_type": "code",
   "execution_count": null,
   "metadata": {
    "id": "X4kbDEj39DEZ"
   },
   "outputs": [],
   "source": [
    "# Load the initial VGG16 wieghts, with the head layers left off\n",
    "vgg = VGG16(weights=\"imagenet\", include_top=False,input_tensor=Input(shape=(600, 600, 3)))\n",
    "# Freeze VGG layers so they won't be updated during training\n",
    "vgg.trainable = False\n",
    "# Flatten the max-pooling output of VGG\n",
    "flatten = vgg.output\n",
    "flatten = Flatten()(flatten)\n",
    "# Dense layer header to output the predicted box coordinates\n",
    "bboxHead = Dense(1240, activation=\"relu\")(flatten)\n",
    "bboxHead = Dense(620, activation=\"relu\")(bboxHead)\n",
    "bboxHead = Dense(310, activation=\"relu\")(bboxHead)\n",
    "bboxHead = Dense(155, activation=\"relu\")(bboxHead)\n",
    "bboxHead = Dense(4, activation=\"sigmoid\",name=\"bounding_box\")(bboxHead)\n",
    "# Dense layer header to output the class label\n",
    "classHead = Dense(512, activation=\"relu\")(flatten)\n",
    "classHead = Dropout(0.5)(classHead)\n",
    "classHead = Dense(512, activation=\"relu\")(classHead)\n",
    "classHead = Dropout(0.5)(classHead)\n",
    "classHead = Dense(1, activation=\"softmax\", name=\"class_label\")(classHead)\n",
    "\n",
    "# Construct the model\n",
    "branched_model = Model(inputs=vgg.input, outputs=(bboxHead, classHead))\n",
    "# Different losses\n",
    "losses = {\n",
    "\t\"class_label\": \"categorical_crossentropy\",\n",
    "\t\"bounding_box\": \"mean_squared_error\",\n",
    "}\n",
    "# Equal weight for class and bounding box prediction\n",
    "lossWeights = {\n",
    "\t\"class_label\": 1.0,\n",
    "\t\"bounding_box\": 1.0\n",
    "}\n",
    "\n",
    "branched_model.compile(loss=losses, optimizer=Adam(lr=0.0001), metrics=[\"accuracy\"], loss_weights=lossWeights)"
   ]
  },
  {
   "cell_type": "code",
   "execution_count": null,
   "metadata": {
    "colab": {
     "base_uri": "https://localhost:8080/",
     "height": 1000
    },
    "id": "8lGrWEEtDlMO",
    "outputId": "44190514-e647-401b-fc38-8b8b43713d82"
   },
   "outputs": [],
   "source": [
    "tf.keras.utils.plot_model(\n",
    "    branched_model,\n",
    "    to_file=\"branched_model.png\",\n",
    "    show_shapes=True,\n",
    "    show_layer_names=True,\n",
    "    rankdir=\"TB\",\n",
    "    expand_nested=True,\n",
    "    dpi=96,\n",
    ")"
   ]
  },
  {
   "cell_type": "code",
   "execution_count": null,
   "metadata": {
    "id": "Qg00j3OQ_bFg"
   },
   "outputs": [],
   "source": [
    "trainTargets = {\n",
    "\t\"class_label\": label_train,\n",
    "\t\"bounding_box\": y_train\n",
    "}\n",
    "\n",
    "testTargets = {\n",
    "\t\"class_label\": label_test,\n",
    "\t\"bounding_box\": y_test\n",
    "}"
   ]
  },
  {
   "cell_type": "code",
   "execution_count": null,
   "metadata": {
    "colab": {
     "base_uri": "https://localhost:8080/"
    },
    "id": "-AR0sX8i_pnS",
    "outputId": "d153df3d-94cf-4960-be82-13eb7847e2de"
   },
   "outputs": [],
   "source": [
    "branched_model_history = branched_model.fit(\n",
    "\tX_train, trainTargets,\n",
    "\tvalidation_data=(X_test, testTargets),\n",
    "\tbatch_size=2,\n",
    "\tepochs=15,\n",
    "\tverbose=1)"
   ]
  },
  {
   "cell_type": "code",
   "execution_count": null,
   "metadata": {
    "colab": {
     "base_uri": "https://localhost:8080/",
     "height": 896
    },
    "id": "t_kbBVGID9Vb",
    "outputId": "0a434c5c-8d1a-47ae-b06d-7b2f14ee6bd0"
   },
   "outputs": [],
   "source": [
    "loss = branched_model_history.history['loss']\n",
    "val_loss = branched_model_history.history['val_loss']\n",
    "\n",
    "bb_acc = branched_model_history.history['bounding_box_accuracy']\n",
    "val_bb_acc = branched_model_history.history['val_bounding_box_accuracy']\n",
    "\n",
    "class_acc = branched_model_history.history['class_label_accuracy']\n",
    "val_class_acc = branched_model_history.history['val_class_label_accuracy']\n",
    "\n",
    "\n",
    "plt.figure(figsize=(10,15))\n",
    "plt.subplot(2,1,1)\n",
    "plt.plot(loss , linewidth=3 ,label='train loss')\n",
    "plt.plot(val_loss , linewidth=3, label='val loss')\n",
    "plt.xlabel('epochs')\n",
    "plt.ylabel('loss / val_loss')\n",
    "plt.legend()\n",
    "\n",
    "plt.subplot(2,1,2)\n",
    "plt.plot(bb_acc , linewidth=3 ,label='bounding box acc')\n",
    "plt.plot(val_bb_acc , linewidth=3, label='val bounding box acc')\n",
    "plt.xlabel('epochs')\n",
    "plt.ylabel('Accuracy / Val_Accuracy')\n",
    "plt.legend()"
   ]
  },
  {
   "cell_type": "code",
   "execution_count": null,
   "metadata": {
    "colab": {
     "base_uri": "https://localhost:8080/",
     "height": 511
    },
    "id": "PS348aKdILXk",
    "outputId": "c48cc95d-272c-4e47-b93a-462a802c1ce4"
   },
   "outputs": [],
   "source": [
    "# Example prediction with branched model\n",
    "n = 17\n",
    "fig, ax = plt.subplots(1,1, figsize=(7,10))\n",
    "ax.imshow(X_test[n], vmin=0, vmax=1)\n",
    "xmin,ymin,xmax,ymax = (y_test[n][0]*600, y_test[n][1]*600, y_test[n][2]*600, y_test[n][3]*600)\n",
    "w = (xmax-xmin)\n",
    "h = (ymax-ymin)\n",
    "x = round(xmin + (w/2))\n",
    "y_ = round(ymin + (h/2))\n",
    "ax.add_patch(patches.Rectangle((x,y_),w,h, fill=False, edgecolor='green', lw=2))\n",
    "img = tf.cast(np.expand_dims(X_test[n], axis=0), tf.float32)\n",
    "pred = branched_model.predict(img)\n",
    "print(pred)\n",
    "xmin,ymin,xmax,ymax = (pred[0][0][0]*600, pred[0][0][1]*600, pred[0][0][2]*600, pred[0][0][3]*600)\n",
    "w = (xmax-xmin)\n",
    "h = (ymax-ymin)\n",
    "x = round(xmin + (w/2))\n",
    "y_ = round(ymin + (h/2))\n",
    "ax.add_patch(patches.Rectangle((x,y_),w,h, fill=False, edgecolor='red', lw=2))"
   ]
  }
 ],
 "metadata": {
  "accelerator": "GPU",
  "colab": {
   "collapsed_sections": [
    "P0fOu9OkzZcJ",
    "eljLnZgTzZcL",
    "JGThCHrzzZcO",
    "I-r4gO1wzZcQ",
    "yk5b2R_QzZcQ",
    "fK3JvlnMzZcS",
    "nH9TPy6gzZcT"
   ],
   "machine_shape": "hm",
   "provenance": []
  },
  "gpuClass": "standard",
  "kernelspec": {
   "display_name": "Python 3",
   "language": "python",
   "name": "python3"
  },
  "language_info": {
   "codemirror_mode": {
    "name": "ipython",
    "version": 3
   },
   "file_extension": ".py",
   "mimetype": "text/x-python",
   "name": "python",
   "nbconvert_exporter": "python",
   "pygments_lexer": "ipython3",
   "version": "3.8.3"
  }
 },
 "nbformat": 4,
 "nbformat_minor": 1
}
