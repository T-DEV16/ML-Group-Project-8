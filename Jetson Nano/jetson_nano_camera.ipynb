{
  "cells": [
    {
      "cell_type": "markdown",
      "source": [
        "This checks if there is a camera plugged into the Jetson Nano. /dev/video 0 will exist if there's a camera plugged in."
      ],
      "metadata": {
        "id": "-YT5syDUC_aj"
      }
    },
    {
      "cell_type": "code",
      "execution_count": null,
      "metadata": {
        "id": "w9iDrHoWB7-U",
        "outputId": "f2a6cf2d-9202-446d-b2f1-673bd4cd8fb8"
      },
      "outputs": [
        {
          "name": "stdout",
          "output_type": "stream",
          "text": [
            "crw-rw---- 1 root video 81, 0 Dec  6 04:33 /dev/video0\n"
          ]
        }
      ],
      "source": [
        "!ls -ltrh /dev/video*"
      ]
    },
    {
      "cell_type": "markdown",
      "source": [
        "The 600 width and 600 height is used here to match the size of shape used in the model. This will allow us to test on the model after building it."
      ],
      "metadata": {
        "id": "YN9axNfrQYrv"
      }
    },
    {
      "cell_type": "code",
      "execution_count": null,
      "metadata": {
        "id": "FZWId8e5B7-X"
      },
      "outputs": [],
      "source": [
        "from jetcam.usb_camera import USBCamera\n",
        "import ipywidgets\n",
        "from IPython.display import display\n",
        "from jetcam.utils import bgr8_to_jpeg\n",
        "\n",
        "camera = USBCamera(width=600, height=600, capture_width=640, capture_height=480, capture_device=0)"
      ]
    },
    {
      "cell_type": "markdown",
      "source": [
        "update_image is a callback function that is called constantly. The image variable in the update_image can be used to get the new images. These images were what we had planned to feed into the model to test for potholes."
      ],
      "metadata": {
        "id": "no0O5ifKFOC2"
      }
    },
    {
      "cell_type": "code",
      "execution_count": null,
      "metadata": {
        "colab": {
          "referenced_widgets": [
            "4f43b265873046cabb3256727d8bc913"
          ]
        },
        "id": "bbD0YfMRB7-Y",
        "outputId": "dbbc64f1-8648-45d2-a0e1-e93701b60225"
      },
      "outputs": [
        {
          "data": {
            "application/vnd.jupyter.widget-view+json": {
              "model_id": "4f43b265873046cabb3256727d8bc913",
              "version_major": 2,
              "version_minor": 0
            },
            "text/plain": [
              "Image(value=b'\\xff\\xd8\\xff\\xe0\\x00\\x10JFIF\\x00\\x01\\x01\\x00\\x00\\x01\\x00\\x01\\x00\\x00\\xff\\xdb\\x00C\\x00\\x02\\x01\\x0…"
            ]
          },
          "metadata": {},
          "output_type": "display_data"
        }
      ],
      "source": [
        "image = camera.read()\n",
        "\n",
        "image_widget = ipywidgets.Image(format='jpeg')\n",
        "\n",
        "image_widget.value = bgr8_to_jpeg(image)\n",
        "\n",
        "display(image_widget)\n",
        "\n",
        "camera.running = True\n",
        "\n",
        "def update_image(change):\n",
        "    image = change['new']\n",
        "    image_widget.value = bgr8_to_jpeg(image)\n",
        "    \n",
        "camera.observe(update_image, names='value')"
      ]
    },
    {
      "cell_type": "markdown",
      "source": [
        "stops calling update_image"
      ],
      "metadata": {
        "id": "PuXfgMzgG6yI"
      }
    },
    {
      "cell_type": "code",
      "execution_count": null,
      "metadata": {
        "id": "BaO-gpdTB7-Z"
      },
      "outputs": [],
      "source": [
        "camera.unobserve(update_image, names='value')"
      ]
    },
    {
      "cell_type": "code",
      "execution_count": null,
      "metadata": {
        "id": "LmKicNjbB7-Z"
      },
      "outputs": [],
      "source": [
        "import os\n",
        "os._exit(00)"
      ]
    }
  ],
  "metadata": {
    "kernelspec": {
      "display_name": "Python 3",
      "language": "python",
      "name": "python3"
    },
    "language_info": {
      "codemirror_mode": {
        "name": "ipython",
        "version": 3
      },
      "file_extension": ".py",
      "mimetype": "text/x-python",
      "name": "python",
      "nbconvert_exporter": "python",
      "pygments_lexer": "ipython3",
      "version": "3.6.9"
    },
    "colab": {
      "provenance": []
    }
  },
  "nbformat": 4,
  "nbformat_minor": 0
}